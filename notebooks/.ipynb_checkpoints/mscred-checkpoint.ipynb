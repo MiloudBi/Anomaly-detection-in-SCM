{
 "cells": [
  {
   "cell_type": "markdown",
   "id": "f0c1582e-9295-425b-aec9-f7352322a6b2",
   "metadata": {},
   "source": [
    "**Anomaly detection based MSCRED**"
   ]
  },
  {
   "cell_type": "markdown",
   "id": "02eac9c7-2fab-4b5d-9ce4-813b5e07d5b0",
   "metadata": {},
   "source": [
    "For this Notbook, we use synthetic datasets generated using the formula :<br>\n",
    "![title](../images/synthetic.png)\n",
    "<ol>\n",
    "where:\n",
    "    <li>$S_{rand}$ is a random seed value 0 or 1</li>\n",
    "    <li>$\\sin$ and $\\cos$ are trigonometric functions simulates temporal patterns</li>\n",
    "    <li> T0 is the delay in the interval [50,100] and w is the frequency in [40,50].Both simulate different periodic cycles</li>\n",
    "    <li>$\\epsilon$ is the random gaussian noise follwing a normal distribution N(0,1) scaled by factor $\\lambda$=0.3 these indicators simulates noise as well</li>\n",
    "       \n",
    " </ol>"
   ]
  },
  {
   "cell_type": "markdown",
   "id": "ec6f847b-4ba4-4a4f-95cc-ec9112087608",
   "metadata": {},
   "source": [
    "Here you will find a summary of our synthetic datasets:<br>\n",
    "![title](../images/syntheticResume.png)\n"
   ]
  },
  {
   "cell_type": "code",
   "execution_count": null,
   "id": "ebfef9c4-65c7-475d-88cf-69640c221e5c",
   "metadata": {},
   "outputs": [],
   "source": []
  }
 ],
 "metadata": {
  "kernelspec": {
   "display_name": "Python 3 (ipykernel)",
   "language": "python",
   "name": "python3"
  },
  "language_info": {
   "codemirror_mode": {
    "name": "ipython",
    "version": 3
   },
   "file_extension": ".py",
   "mimetype": "text/x-python",
   "name": "python",
   "nbconvert_exporter": "python",
   "pygments_lexer": "ipython3",
   "version": "3.7.11"
  }
 },
 "nbformat": 4,
 "nbformat_minor": 5
}
