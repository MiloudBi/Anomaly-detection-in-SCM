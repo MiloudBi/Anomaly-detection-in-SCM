{
 "cells": [
  {
   "cell_type": "markdown",
   "id": "f0c1582e-9295-425b-aec9-f7352322a6b2",
   "metadata": {},
   "source": [
    "**Anomaly detection based MSCRED**"
   ]
  },
  {
   "cell_type": "markdown",
   "id": "02eac9c7-2fab-4b5d-9ce4-813b5e07d5b0",
   "metadata": {},
   "source": [
    "For this Notbook, we use synthetic datasets generated using the formula :<br>\n",
    "![title](../images/synthetic.png)\n",
    "<ol>\n",
    "where:\n",
    "    <li>$S_{rand}$ is a random seed value 0 or 1</li>\n",
    "    <li>$\\sin$ and $\\cos$ are trigonometric functions simulates temporal patterns</li>\n",
    "    <li> $t_0$ is the delay in the interval [50,100] and w is the frequency in [40,50].Both simulate different periodic cycles</li>\n",
    "    <li>$\\epsilon$ is the random gaussian noise follwing a normal distribution N(0,1) scaled by factor $\\lambda$=0.3 these indicators simulates noise as well</li>\n",
    "       \n",
    " </ol>"
   ]
  },
  {
   "cell_type": "markdown",
   "id": "ec6f847b-4ba4-4a4f-95cc-ec9112087608",
   "metadata": {},
   "source": [
    "Here you will find a summary of our synthetic datasets:<br>\n",
    "![title](../images/syntheticResume.png)\n"
   ]
  },
  {
   "cell_type": "code",
   "execution_count": 2,
   "id": "ebfef9c4-65c7-475d-88cf-69640c221e5c",
   "metadata": {},
   "outputs": [],
   "source": [
    "import numpy as np\n",
    "import argparse\n",
    "import pandas as pd\n",
    "import os, sys\n",
    "import math\n",
    "import scipy\n",
    "import matplotlib.pyplot as plt\n",
    "from scipy.stats import pearsonr\n",
    "from scipy import spatial\n",
    "import itertools as it\n",
    "import string\n",
    "import re"
   ]
  },
  {
   "cell_type": "markdown",
   "id": "b59c4b56-f950-4ff1-a114-798f9a699750",
   "metadata": {},
   "source": [
    "**Step 1**: generate signature matrices (train/test matrices)<br>\n",
    "![title](../images/model_MSCRED.PNG)"
   ]
  },
  {
   "cell_type": "code",
   "execution_count": 3,
   "id": "b487479f-b095-4d14-b08c-cf79ddd066ca",
   "metadata": {},
   "outputs": [
    {
     "name": "stdout",
     "output_type": "stream",
     "text": [
      "Namespace(f='C:\\\\Users\\\\milou\\\\AppData\\\\Roaming\\\\jupyter\\\\runtime\\\\kernel-9686edb3-f903-4ff6-9dee-3fe2225d1985.json', gap_time=10, max_time=20000, min_time=0, raw_data_path='../data/synthetic_data_with_anomaly-s-1.csv', save_data_path='../data/', step_max=5, test_end_point=20000, test_start_point=8000, train_end_point=8000, train_start_point=0, ts_type='node', win_size=[10, 30, 60])\n"
     ]
    }
   ],
   "source": [
    "parser = argparse.ArgumentParser(description = 'Signature Matrix Generator')\n",
    "parser.add_argument('-f')\n",
    "parser.add_argument('--ts_type', type = str, default = \"node\", help = 'type of time series: node or link')\n",
    "parser.add_argument('--step_max', type = int, default = 5, help = 'maximum step in ConvLSTM')\n",
    "parser.add_argument('--gap_time', type = int, default = 10, # tride width...\n",
    "                    help = 'gap time between each segment')\n",
    "parser.add_argument('--win_size', type = int, default = [10, 30, 60],help = 'window size of each segment')\n",
    "parser.add_argument('--min_time', type = int, default = 0, help = 'minimum time point')\n",
    "parser.add_argument('--max_time', type = int, default = 20000,help = 'maximum time point')\n",
    "parser.add_argument('--train_start_point',  type = int, default = 0,help = 'train start point')\n",
    "parser.add_argument('--train_end_point',  type = int, default = 8000,help = 'train end point')\n",
    "parser.add_argument('--test_start_point',  type = int, default = 8000,help = 'test start point')\n",
    "parser.add_argument('--test_end_point',  type = int, default = 20000,help = 'test end point')\n",
    "parser.add_argument('--raw_data_path', type = str, default = '../data/synthetic_data_with_anomaly-s-1.csv',help='path to load raw data')\n",
    "parser.add_argument('--save_data_path', type = str, default = '../data/',help='path to save data')\n",
    "\n",
    "args = parser.parse_args()\n",
    "print(args)\n"
   ]
  },
  {
   "cell_type": "code",
   "execution_count": 4,
   "id": "be812ae5-c47e-47fa-9f3a-08780e81cc27",
   "metadata": {},
   "outputs": [],
   "source": [
    "ts_type = args.ts_type\n",
    "step_max = args.step_max\n",
    "min_time = args.min_time\n",
    "max_time = args.max_time\n",
    "gap_time = args.gap_time\n",
    "win_size = args.win_size\n",
    "\n",
    "train_start = args.train_start_point\n",
    "train_end = args.train_end_point\n",
    "test_start = args.test_start_point\n",
    "test_end = args.test_end_point\n",
    "\n",
    "raw_data_path = args.raw_data_path\n",
    "link_name_path = \"../data/synthetic_data_link_name.csv\"\n",
    "save_data_path = args.save_data_path"
   ]
  },
  {
   "cell_type": "code",
   "execution_count": 5,
   "id": "7fc4f274-7d09-49b6-843c-481f1ba024d8",
   "metadata": {},
   "outputs": [],
   "source": [
    "value_colnames = ['total_count','error_count','error_rate']\n",
    "ts_colname=\"agg_time_interval\"\n",
    "agg_freq='5min'\n",
    "\n",
    "scale_n = len(win_size) * len(value_colnames) # 3*3=9\n",
    "\n",
    "matrix_data_path = save_data_path + \"matrix_data/\"\n",
    "if not os.path.exists(matrix_data_path):\n",
    "    os.makedirs(matrix_data_path)\n"
   ]
  },
  {
   "cell_type": "code",
   "execution_count": 6,
   "id": "a1e0d202-668d-4938-ab12-c0fb30ef88f6",
   "metadata": {},
   "outputs": [],
   "source": [
    "def generate_signature_matrix_node():\n",
    "    data = np.array(pd.read_csv(raw_data_path, header = None), dtype=np.float64)\n",
    "    sensor_n = data.shape[0]\n",
    "    #data  = np.array(pd.read_csv(raw_data_path, header = None))[:,2:-1]\n",
    "\n",
    "    # min-max normalization\n",
    "    max_value = np.max(data, axis=1)\n",
    "    min_value = np.min(data, axis=1)\n",
    "    data = (np.transpose(data) - min_value)/(max_value - min_value + 1e-6)\n",
    "\n",
    "    # std normalization\n",
    "    # data = np.nan_to_num(data)\n",
    "    # data_mean = np.mean(data, axis = 0)\n",
    "    # data_std = np.std(data, axis = 0)\n",
    "    # data = np.transpose(data) - data_mean\n",
    "    # data = data / (data_std + 1e-5)\n",
    "    \n",
    "    data = np.transpose(data)\n",
    "\n",
    "    # plt.plot(data[3,:])\n",
    "    # plt.show()\n",
    "\n",
    "    #multi-scale signature matix generation\n",
    "    for w in range(len(win_size)):\n",
    "        matrix_all = []\n",
    "        win = win_size[w]\n",
    "        print (\"generating signature with window \" + str(win) + \"...\")\n",
    "        for t in range(min_time, max_time, gap_time):\n",
    "            #print t\n",
    "            matrix_t = np.zeros((sensor_n, sensor_n))\n",
    "            if t >= 60:\n",
    "                for i in range(sensor_n):\n",
    "                    for j in range(i, sensor_n):\n",
    "                        #if np.var(data[i, t - win:t]) and np.var(data[j, t - win:t]):\n",
    "                        matrix_t[i][j] = np.inner(data[i, t - win:t], data[j, t - win:t])/(win) # rescale by win\n",
    "                        matrix_t[j][i] = matrix_t[i][j]\n",
    "            matrix_all.append(matrix_t)\n",
    "            # if t == 70:\n",
    "            # \tprint matrix_all[6][0]\n",
    "\n",
    "        path_temp = matrix_data_path + \"matrix_win_\" + str(win)\n",
    "        #print np.shape(matrix_all[0])\n",
    "\n",
    "        np.save(path_temp, matrix_all)\n",
    "        del matrix_all[:]\n",
    "\n",
    "    print (\"matrix generation finish!\")"
   ]
  },
  {
   "cell_type": "code",
   "execution_count": 7,
   "id": "c9fb965d-5440-4214-a933-4e2a20223fa3",
   "metadata": {},
   "outputs": [
    {
     "name": "stdout",
     "output_type": "stream",
     "text": [
      "generating signature with window 10...\n",
      "generating signature with window 30...\n",
      "generating signature with window 60...\n",
      "matrix generation finish!\n"
     ]
    }
   ],
   "source": [
    "generate_signature_matrix_node()"
   ]
  },
  {
   "cell_type": "code",
   "execution_count": 46,
   "id": "b2cc91be-7f4f-4b78-a3db-87724d193afc",
   "metadata": {},
   "outputs": [
    {
     "data": {
      "text/plain": [
       "array([[[0.        , 0.        , 0.        , ..., 0.        ,\n",
       "         0.        , 0.        ],\n",
       "        [0.        , 0.        , 0.        , ..., 0.        ,\n",
       "         0.        , 0.        ],\n",
       "        [0.        , 0.        , 0.        , ..., 0.        ,\n",
       "         0.        , 0.        ],\n",
       "        ...,\n",
       "        [0.        , 0.        , 0.        , ..., 0.        ,\n",
       "         0.        , 0.        ],\n",
       "        [0.        , 0.        , 0.        , ..., 0.        ,\n",
       "         0.        , 0.        ],\n",
       "        [0.        , 0.        , 0.        , ..., 0.        ,\n",
       "         0.        , 0.        ]],\n",
       "\n",
       "       [[0.        , 0.        , 0.        , ..., 0.        ,\n",
       "         0.        , 0.        ],\n",
       "        [0.        , 0.        , 0.        , ..., 0.        ,\n",
       "         0.        , 0.        ],\n",
       "        [0.        , 0.        , 0.        , ..., 0.        ,\n",
       "         0.        , 0.        ],\n",
       "        ...,\n",
       "        [0.        , 0.        , 0.        , ..., 0.        ,\n",
       "         0.        , 0.        ],\n",
       "        [0.        , 0.        , 0.        , ..., 0.        ,\n",
       "         0.        , 0.        ],\n",
       "        [0.        , 0.        , 0.        , ..., 0.        ,\n",
       "         0.        , 0.        ]],\n",
       "\n",
       "       [[0.        , 0.        , 0.        , ..., 0.        ,\n",
       "         0.        , 0.        ],\n",
       "        [0.        , 0.        , 0.        , ..., 0.        ,\n",
       "         0.        , 0.        ],\n",
       "        [0.        , 0.        , 0.        , ..., 0.        ,\n",
       "         0.        , 0.        ],\n",
       "        ...,\n",
       "        [0.        , 0.        , 0.        , ..., 0.        ,\n",
       "         0.        , 0.        ],\n",
       "        [0.        , 0.        , 0.        , ..., 0.        ,\n",
       "         0.        , 0.        ],\n",
       "        [0.        , 0.        , 0.        , ..., 0.        ,\n",
       "         0.        , 0.        ]],\n",
       "\n",
       "       ...,\n",
       "\n",
       "       [[0.08588483, 0.212284  , 0.08952334, ..., 0.18426574,\n",
       "         0.13229493, 0.1901198 ],\n",
       "        [0.212284  , 0.53949284, 0.21807117, ..., 0.46496658,\n",
       "         0.32738811, 0.48054257],\n",
       "        [0.08952334, 0.21807117, 0.10165658, ..., 0.19449296,\n",
       "         0.13891588, 0.20040159],\n",
       "        ...,\n",
       "        [0.18426574, 0.46496658, 0.19449296, ..., 0.41185278,\n",
       "         0.28821012, 0.4254206 ],\n",
       "        [0.13229493, 0.32738811, 0.13891588, ..., 0.28821012,\n",
       "         0.21105224, 0.2984654 ],\n",
       "        [0.1901198 , 0.48054257, 0.20040159, ..., 0.4254206 ,\n",
       "         0.2984654 , 0.44272561]],\n",
       "\n",
       "       [[0.0991606 , 0.20904609, 0.09576378, ..., 0.18405627,\n",
       "         0.10846869, 0.18252159],\n",
       "        [0.20904609, 0.47466387, 0.21723405, ..., 0.41121972,\n",
       "         0.24165847, 0.41401217],\n",
       "        [0.09576378, 0.21723405, 0.10437243, ..., 0.18818069,\n",
       "         0.11208834, 0.19053157],\n",
       "        ...,\n",
       "        [0.18405627, 0.41121972, 0.18818069, ..., 0.37123857,\n",
       "         0.21149637, 0.3678498 ],\n",
       "        [0.10846869, 0.24165847, 0.11208834, ..., 0.21149637,\n",
       "         0.13454718, 0.21323089],\n",
       "        [0.18252159, 0.41401217, 0.19053157, ..., 0.3678498 ,\n",
       "         0.21323089, 0.36849089]],\n",
       "\n",
       "       [[0.07345685, 0.17609008, 0.08697033, ..., 0.13569012,\n",
       "         0.0817633 , 0.1426393 ],\n",
       "        [0.17609008, 0.4524527 , 0.22418873, ..., 0.34334057,\n",
       "         0.21102495, 0.35181177],\n",
       "        [0.08697033, 0.22418873, 0.11423441, ..., 0.16962155,\n",
       "         0.10465012, 0.17323314],\n",
       "        ...,\n",
       "        [0.13569012, 0.34334057, 0.16962155, ..., 0.2664666 ,\n",
       "         0.16338593, 0.27117543],\n",
       "        [0.0817633 , 0.21102495, 0.10465012, ..., 0.16338593,\n",
       "         0.10341759, 0.1639194 ],\n",
       "        [0.1426393 , 0.35181177, 0.17323314, ..., 0.27117543,\n",
       "         0.1639194 , 0.28428628]]])"
      ]
     },
     "execution_count": 46,
     "metadata": {},
     "output_type": "execute_result"
    }
   ],
   "source": [
    "np.load('../data/matrix_data/matrix_win_10.npy')"
   ]
  },
  {
   "cell_type": "code",
   "execution_count": 13,
   "id": "d2bfece5-b068-4f8b-bf32-f8e89a4cf928",
   "metadata": {},
   "outputs": [],
   "source": [
    "\tdata_all = []\n",
    "\tfor w in range(len(win_size)):\n",
    "\t\tpath_temp = matrix_data_path + \"matrix_win_\" + str(win_size[w])+ \".npy\"\n",
    "\t\tdata_all.append(np.load(path_temp))"
   ]
  },
  {
   "cell_type": "code",
   "execution_count": 16,
   "id": "ffde4df5-ccc5-4f7b-bc03-49d74a5b58d9",
   "metadata": {},
   "outputs": [],
   "source": [
    "def generate_train_test_data():\n",
    "\t#data sample generation\n",
    "\tprint (\"generating train/test data samples...\")\n",
    "\tmatrix_data_path = \"../data/matrix_data/\"\n",
    "\n",
    "\ttrain_data_path = matrix_data_path + \"train_data/\"\n",
    "\tif not os.path.exists(train_data_path):\n",
    "\t\tos.makedirs(train_data_path)\n",
    "\ttest_data_path = matrix_data_path + \"test_data/\"\n",
    "\tif not os.path.exists(test_data_path):\n",
    "\t\tos.makedirs(test_data_path)\n",
    "\n",
    "\tdata_all = []\n",
    "\tfor w in range(len(win_size)):\n",
    "\t\tpath_temp = matrix_data_path + \"matrix_win_\" + str(win_size[w])+ \".npy\"\n",
    "\t\tdata_all.append(np.load(path_temp))\n",
    "\n",
    "\ttrain_test_time = [[train_start, train_end], [test_start, test_end]]\n",
    "\tfor i in range(len(train_test_time)):\n",
    "\t\tfor data_id in range(int(train_test_time[i][0]/gap_time), int(train_test_time[i][1]/gap_time)):\n",
    "\t\t\t#print data_id\n",
    "\t\t\tstep_multi_matrix = []\n",
    "\t\t\tfor step_id in range(step_max, 0, -1):\n",
    "\t\t\t\tmulti_matrix = []\n",
    "\t\t\t\tfor i in range(len(win_size)):\n",
    "\t\t\t\t\tmulti_matrix.append(data_all[i][data_id - step_id])\n",
    "\t\t\t\tstep_multi_matrix.append(multi_matrix)\n",
    "\n",
    "\t\t\tif data_id >= (train_start/gap_time + win_size[-1]/gap_time + step_max) and data_id < (train_end/gap_time): # remove start points with invalid value\n",
    "\t\t\t\tpath_temp = os.path.join(train_data_path, 'train_data_' + str(data_id))\n",
    "\t\t\t\tnp.save(path_temp, step_multi_matrix)\n",
    "\t\t\telif data_id >= (test_start/gap_time) and data_id < (test_end/gap_time):\n",
    "\t\t\t\tpath_temp = os.path.join(test_data_path, 'test_data_' + str(data_id))\n",
    "\t\t\t\tnp.save(path_temp, step_multi_matrix)\n",
    "\n",
    "\t\t\t#print np.shape(step_multi_matrix)\n",
    "\n",
    "\t\t\tdel step_multi_matrix[:]\n",
    "\n",
    "\tprint (\"train/test data generation finish!\")"
   ]
  },
  {
   "cell_type": "code",
   "execution_count": 17,
   "id": "44506767-ea6e-4bc8-ace0-e5c04b4fe8e9",
   "metadata": {},
   "outputs": [
    {
     "name": "stdout",
     "output_type": "stream",
     "text": [
      "generating train/test data samples...\n",
      "train/test data generation finish!\n"
     ]
    }
   ],
   "source": [
    "generate_train_test_data()"
   ]
  },
  {
   "cell_type": "code",
   "execution_count": null,
   "id": "b84d0224-d152-42c6-bb9e-97d90e99a80f",
   "metadata": {},
   "outputs": [],
   "source": []
  },
  {
   "cell_type": "code",
   "execution_count": null,
   "id": "9f746d40-0a40-445f-b672-49fe1578b476",
   "metadata": {},
   "outputs": [],
   "source": []
  }
 ],
 "metadata": {
  "kernelspec": {
   "display_name": "Python 3 (ipykernel)",
   "language": "python",
   "name": "python3"
  },
  "language_info": {
   "codemirror_mode": {
    "name": "ipython",
    "version": 3
   },
   "file_extension": ".py",
   "mimetype": "text/x-python",
   "name": "python",
   "nbconvert_exporter": "python",
   "pygments_lexer": "ipython3",
   "version": "3.7.11"
  }
 },
 "nbformat": 4,
 "nbformat_minor": 5
}
